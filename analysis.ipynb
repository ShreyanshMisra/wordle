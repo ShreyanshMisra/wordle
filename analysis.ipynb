{
 "cells": [
  {
   "cell_type": "markdown",
   "id": "4c417101",
   "metadata": {},
   "source": [
    "# Finding the most optimal starter word in Wordle"
   ]
  },
  {
   "cell_type": "markdown",
   "id": "b9fbcaf6",
   "metadata": {},
   "source": [
    "## I. Creating the Datasets"
   ]
  },
  {
   "cell_type": "code",
   "execution_count": 1,
   "id": "7ae76aef",
   "metadata": {},
   "outputs": [],
   "source": [
    "import pandas as pd\n",
    "import seaborn as sns\n",
    "import matplotlib.pyplot as plt"
   ]
  },
  {
   "cell_type": "markdown",
   "id": "7db2f7ea",
   "metadata": {},
   "source": [
    "Wordle has a dataset of `12,972` five-letter words that are accepted as guesses in the game. Of those, `2,315` words are in rotation to be the solution to each day's wordle. \n",
    "\n",
    "```\n",
    "accepted.txt - words accepted as guesses\n",
    "answers.txt -  possible solutions\n",
    "```"
   ]
  },
  {
   "cell_type": "code",
   "execution_count": 2,
   "id": "23adc667",
   "metadata": {},
   "outputs": [
    {
     "name": "stdout",
     "output_type": "stream",
     "text": [
      "12972 ['aahed', 'aalii', 'aargh', 'aarti', 'abaca', 'abaci', 'aback', 'abacs', 'abaft', 'abaka']\n"
     ]
    }
   ],
   "source": [
    "accepted = []\n",
    "with open('accepted.txt') as f:\n",
    "    for line in f:\n",
    "        accepted.append(line.strip())\n",
    "\n",
    "total_accepted = len(accepted)\n",
    "print(total_accepted, accepted[0:10])"
   ]
  },
  {
   "cell_type": "code",
   "execution_count": 3,
   "id": "09aaaef1",
   "metadata": {},
   "outputs": [
    {
     "name": "stdout",
     "output_type": "stream",
     "text": [
      "2315 ['cigar', 'rebut', 'sissy', 'humph', 'awake', 'blush', 'focal', 'evade', 'naval', 'serve', 'heath', 'dwarf']\n"
     ]
    }
   ],
   "source": [
    "answers = []\n",
    "with open('answers.txt') as f:\n",
    "    for line in f:\n",
    "        answers.append(line.strip())\n",
    "\n",
    "total_answers = len(answers)\n",
    "print(total_answers, answers[0:12])"
   ]
  },
  {
   "cell_type": "markdown",
   "id": "ed262753",
   "metadata": {},
   "source": [
    "#### Backtesting function\n",
    "An optimal starter word allows us to eliminate the maximum number of words from the dataset, narrowing down the list of possible answers. If we used `awake` as our starter word and none of the letters `{a, w, k, e}` were in the wordle's solution, we would still eliminate `77.44%` of all accepted words. "
   ]
  },
  {
   "cell_type": "code",
   "execution_count": 4,
   "id": "887071de",
   "metadata": {},
   "outputs": [],
   "source": [
    "def backtest(starter, dataset):\n",
    "    total = len(dataset)\n",
    "    eliminated = 0\n",
    "    \n",
    "    for word in dataset:\n",
    "        for i in range(5):\n",
    "            if starter[i] in word:\n",
    "                eliminated += 1\n",
    "                break\n",
    "    pct = round(100 - ((total - eliminated)/total*100), 2)\n",
    "    return starter, (\"{}%\".format(pct))"
   ]
  },
  {
   "cell_type": "code",
   "execution_count": 5,
   "id": "bf27be2f",
   "metadata": {},
   "outputs": [
    {
     "data": {
      "text/plain": [
       "('awake', '77.44%')"
      ]
     },
     "execution_count": 5,
     "metadata": {},
     "output_type": "execute_result"
    }
   ],
   "source": [
    "backtest(starter=\"awake\", dataset=accepted)"
   ]
  },
  {
   "cell_type": "markdown",
   "id": "1843817b",
   "metadata": {},
   "source": [
    "## II. Strategies"
   ]
  },
  {
   "cell_type": "markdown",
   "id": "e6e0d34c",
   "metadata": {},
   "source": [
    "#### Vowel Strategy"
   ]
  },
  {
   "cell_type": "markdown",
   "id": "8c49fb9a",
   "metadata": {},
   "source": [
    "All English words have at least one vowel (with some exceptions) so a starter word with a lot of vowels should theoretically eliminate the maximum number of words from the dataset."
   ]
  },
  {
   "cell_type": "code",
   "execution_count": 6,
   "id": "88c6f102",
   "metadata": {},
   "outputs": [
    {
     "name": "stdout",
     "output_type": "stream",
     "text": [
      "64860 aahedaaliiaarghaartiabacaabaciabackabacsabaftabaka\n"
     ]
    }
   ],
   "source": [
    "# converting accepted dataset to one long string\n",
    "string = ''.join([str(word) for word in accepted])\n",
    "print(len(string), string[0:50])"
   ]
  },
  {
   "cell_type": "code",
   "execution_count": 7,
   "id": "3be4ee57",
   "metadata": {},
   "outputs": [
    {
     "data": {
      "text/html": [
       "<div>\n",
       "<style scoped>\n",
       "    .dataframe tbody tr th:only-of-type {\n",
       "        vertical-align: middle;\n",
       "    }\n",
       "\n",
       "    .dataframe tbody tr th {\n",
       "        vertical-align: top;\n",
       "    }\n",
       "\n",
       "    .dataframe thead th {\n",
       "        text-align: right;\n",
       "    }\n",
       "</style>\n",
       "<table border=\"1\" class=\"dataframe\">\n",
       "  <thead>\n",
       "    <tr style=\"text-align: right;\">\n",
       "      <th></th>\n",
       "      <th>vowel</th>\n",
       "      <th>frequency</th>\n",
       "    </tr>\n",
       "  </thead>\n",
       "  <tbody>\n",
       "    <tr>\n",
       "      <th>1</th>\n",
       "      <td>e</td>\n",
       "      <td>6662</td>\n",
       "    </tr>\n",
       "    <tr>\n",
       "      <th>0</th>\n",
       "      <td>a</td>\n",
       "      <td>5990</td>\n",
       "    </tr>\n",
       "    <tr>\n",
       "      <th>3</th>\n",
       "      <td>o</td>\n",
       "      <td>4438</td>\n",
       "    </tr>\n",
       "    <tr>\n",
       "      <th>2</th>\n",
       "      <td>i</td>\n",
       "      <td>3759</td>\n",
       "    </tr>\n",
       "    <tr>\n",
       "      <th>4</th>\n",
       "      <td>u</td>\n",
       "      <td>2511</td>\n",
       "    </tr>\n",
       "  </tbody>\n",
       "</table>\n",
       "</div>"
      ],
      "text/plain": [
       "  vowel  frequency\n",
       "1     e       6662\n",
       "0     a       5990\n",
       "3     o       4438\n",
       "2     i       3759\n",
       "4     u       2511"
      ]
     },
     "execution_count": 7,
     "metadata": {},
     "output_type": "execute_result"
    }
   ],
   "source": [
    "vowels = ['a', 'e', 'i', 'o', 'u']\n",
    "freq = [string.count(vowels[i]) for i in range(len(vowels))]\n",
    "\n",
    "vf_dict = {'vowel': vowels, 'frequency': freq}\n",
    "vf_df = pd.DataFrame(vf_dict) \n",
    "vf_df = vf_df.sort_values(by=['frequency'], ascending=False)\n",
    "vf_df"
   ]
  },
  {
   "cell_type": "code",
   "execution_count": 8,
   "id": "e1d78db9",
   "metadata": {},
   "outputs": [
    {
     "data": {
      "image/png": "[encoded data removed]",
      "text/plain": [
       "<Figure size 1080x216 with 1 Axes>"
      ]
     },
     "metadata": {
      "needs_background": "light"
     },
     "output_type": "display_data"
    }
   ],
   "source": [
    "plt.figure(figsize=(15, 3))\n",
    "sns.barplot(data=vf_df, x=\"frequency\", y=\"vowel\", palette=\"GnBu_d\")\n",
    "plt.show()"
   ]
  },
  {
   "cell_type": "markdown",
   "id": "1f1f7134",
   "metadata": {},
   "source": [
    "The vowels `e` and `a` are the most frequent in the dataset. Having `e` in the starter word alone would eliminate over `50%` of words. "
   ]
  },
  {
   "cell_type": "code",
   "execution_count": 9,
   "id": "344ea130",
   "metadata": {},
   "outputs": [],
   "source": [
    "for word in accepted:\n",
    "    if 'a' in word and 'e' in word and 'i' in word and 'o' in word and 'u' in word:\n",
    "        print(word)"
   ]
  },
  {
   "cell_type": "markdown",
   "id": "183e07a9",
   "metadata": {},
   "source": [
    "Seeing as none of the words in the `accepted`dataset contain all five vowels, we can try to look for words in the dataset that contain four out of five vowels. Since `e` and `a` are significantly more freqent than the other three, they won't be omitted. "
   ]
  },
  {
   "cell_type": "code",
   "execution_count": 10,
   "id": "7aad105f",
   "metadata": {},
   "outputs": [
    {
     "name": "stdout",
     "output_type": "stream",
     "text": [
      "adieu, 1\n",
      "adieu, 3\n",
      "aurei, 1\n",
      "aurei, 3\n",
      "uraei, 1\n",
      "uraei, 3\n"
     ]
    }
   ],
   "source": [
    "for word in accepted:\n",
    "    if ('a' in word and 'e' in word and 'i' in word) and ('o' in word or 'u' in word):\n",
    "        print(word + \", 1\")\n",
    "        \n",
    "    if ('a' in word and 'e' in word and 'o' in word) and ('i' in word or 'u' in word):\n",
    "        print(word + \", 2\")\n",
    "        \n",
    "    if ('a' in word and 'e' in word and 'u' in word) and ('i' in word or 'o' in word):\n",
    "        print(word + \", 3\")"
   ]
  },
  {
   "cell_type": "markdown",
   "id": "8f5edd77",
   "metadata": {},
   "source": [
    "The first and last conditionals yielded results: `adieu`, `aurei`, and `uraei`. Backtesting them revealed that `aurei` and `uraei` (anagrams of each other) eliminated the largest percentage of the dataset at `93.35%`. "
   ]
  },
  {
   "cell_type": "code",
   "execution_count": 11,
   "id": "1e1d4b69",
   "metadata": {},
   "outputs": [
    {
     "data": {
      "text/plain": [
       "('adieu', '92.18%')"
      ]
     },
     "execution_count": 11,
     "metadata": {},
     "output_type": "execute_result"
    }
   ],
   "source": [
    "backtest(starter=\"adieu\", dataset=accepted)"
   ]
  },
  {
   "cell_type": "code",
   "execution_count": 12,
   "id": "ee80db0d",
   "metadata": {},
   "outputs": [
    {
     "data": {
      "text/plain": [
       "('aurei', '93.35%')"
      ]
     },
     "execution_count": 12,
     "metadata": {},
     "output_type": "execute_result"
    }
   ],
   "source": [
    "backtest(starter=\"aurei\", dataset=accepted)"
   ]
  },
  {
   "cell_type": "code",
   "execution_count": 13,
   "id": "d132f7ff",
   "metadata": {},
   "outputs": [
    {
     "data": {
      "text/plain": [
       "('uraei', '93.35%')"
      ]
     },
     "execution_count": 13,
     "metadata": {},
     "output_type": "execute_result"
    }
   ],
   "source": [
    "backtest(starter=\"uraei\", dataset=accepted)"
   ]
  },
  {
   "cell_type": "markdown",
   "id": "df9ea3d3",
   "metadata": {},
   "source": [
    "#### Letter Strategy"
   ]
  },
  {
   "cell_type": "markdown",
   "id": "e110b800",
   "metadata": {},
   "source": [
    "Some consonants appear more freqently in words than certain vowels. This is especially true in five-letter words since many of them are plurals of four-letter words, increasing the frequency of the letter `s`."
   ]
  },
  {
   "cell_type": "code",
   "execution_count": 14,
   "id": "b2e3552c",
   "metadata": {},
   "outputs": [
    {
     "data": {
      "text/html": [
       "<div>\n",
       "<style scoped>\n",
       "    .dataframe tbody tr th:only-of-type {\n",
       "        vertical-align: middle;\n",
       "    }\n",
       "\n",
       "    .dataframe tbody tr th {\n",
       "        vertical-align: top;\n",
       "    }\n",
       "\n",
       "    .dataframe thead th {\n",
       "        text-align: right;\n",
       "    }\n",
       "</style>\n",
       "<table border=\"1\" class=\"dataframe\">\n",
       "  <thead>\n",
       "    <tr style=\"text-align: right;\">\n",
       "      <th></th>\n",
       "      <th>letter</th>\n",
       "      <th>frequency</th>\n",
       "    </tr>\n",
       "  </thead>\n",
       "  <tbody>\n",
       "    <tr>\n",
       "      <th>18</th>\n",
       "      <td>s</td>\n",
       "      <td>6665</td>\n",
       "    </tr>\n",
       "    <tr>\n",
       "      <th>4</th>\n",
       "      <td>e</td>\n",
       "      <td>6662</td>\n",
       "    </tr>\n",
       "    <tr>\n",
       "      <th>0</th>\n",
       "      <td>a</td>\n",
       "      <td>5990</td>\n",
       "    </tr>\n",
       "    <tr>\n",
       "      <th>14</th>\n",
       "      <td>o</td>\n",
       "      <td>4438</td>\n",
       "    </tr>\n",
       "    <tr>\n",
       "      <th>17</th>\n",
       "      <td>r</td>\n",
       "      <td>4158</td>\n",
       "    </tr>\n",
       "    <tr>\n",
       "      <th>8</th>\n",
       "      <td>i</td>\n",
       "      <td>3759</td>\n",
       "    </tr>\n",
       "    <tr>\n",
       "      <th>11</th>\n",
       "      <td>l</td>\n",
       "      <td>3371</td>\n",
       "    </tr>\n",
       "    <tr>\n",
       "      <th>19</th>\n",
       "      <td>t</td>\n",
       "      <td>3295</td>\n",
       "    </tr>\n",
       "    <tr>\n",
       "      <th>13</th>\n",
       "      <td>n</td>\n",
       "      <td>2952</td>\n",
       "    </tr>\n",
       "    <tr>\n",
       "      <th>20</th>\n",
       "      <td>u</td>\n",
       "      <td>2511</td>\n",
       "    </tr>\n",
       "    <tr>\n",
       "      <th>3</th>\n",
       "      <td>d</td>\n",
       "      <td>2453</td>\n",
       "    </tr>\n",
       "    <tr>\n",
       "      <th>24</th>\n",
       "      <td>y</td>\n",
       "      <td>2074</td>\n",
       "    </tr>\n",
       "    <tr>\n",
       "      <th>2</th>\n",
       "      <td>c</td>\n",
       "      <td>2028</td>\n",
       "    </tr>\n",
       "    <tr>\n",
       "      <th>15</th>\n",
       "      <td>p</td>\n",
       "      <td>2019</td>\n",
       "    </tr>\n",
       "    <tr>\n",
       "      <th>12</th>\n",
       "      <td>m</td>\n",
       "      <td>1976</td>\n",
       "    </tr>\n",
       "    <tr>\n",
       "      <th>7</th>\n",
       "      <td>h</td>\n",
       "      <td>1760</td>\n",
       "    </tr>\n",
       "    <tr>\n",
       "      <th>6</th>\n",
       "      <td>g</td>\n",
       "      <td>1644</td>\n",
       "    </tr>\n",
       "    <tr>\n",
       "      <th>1</th>\n",
       "      <td>b</td>\n",
       "      <td>1627</td>\n",
       "    </tr>\n",
       "    <tr>\n",
       "      <th>10</th>\n",
       "      <td>k</td>\n",
       "      <td>1505</td>\n",
       "    </tr>\n",
       "    <tr>\n",
       "      <th>5</th>\n",
       "      <td>f</td>\n",
       "      <td>1115</td>\n",
       "    </tr>\n",
       "    <tr>\n",
       "      <th>22</th>\n",
       "      <td>w</td>\n",
       "      <td>1039</td>\n",
       "    </tr>\n",
       "    <tr>\n",
       "      <th>21</th>\n",
       "      <td>v</td>\n",
       "      <td>694</td>\n",
       "    </tr>\n",
       "    <tr>\n",
       "      <th>25</th>\n",
       "      <td>z</td>\n",
       "      <td>434</td>\n",
       "    </tr>\n",
       "    <tr>\n",
       "      <th>9</th>\n",
       "      <td>j</td>\n",
       "      <td>291</td>\n",
       "    </tr>\n",
       "    <tr>\n",
       "      <th>23</th>\n",
       "      <td>x</td>\n",
       "      <td>288</td>\n",
       "    </tr>\n",
       "    <tr>\n",
       "      <th>16</th>\n",
       "      <td>q</td>\n",
       "      <td>112</td>\n",
       "    </tr>\n",
       "  </tbody>\n",
       "</table>\n",
       "</div>"
      ],
      "text/plain": [
       "   letter  frequency\n",
       "18      s       6665\n",
       "4       e       6662\n",
       "0       a       5990\n",
       "14      o       4438\n",
       "17      r       4158\n",
       "8       i       3759\n",
       "11      l       3371\n",
       "19      t       3295\n",
       "13      n       2952\n",
       "20      u       2511\n",
       "3       d       2453\n",
       "24      y       2074\n",
       "2       c       2028\n",
       "15      p       2019\n",
       "12      m       1976\n",
       "7       h       1760\n",
       "6       g       1644\n",
       "1       b       1627\n",
       "10      k       1505\n",
       "5       f       1115\n",
       "22      w       1039\n",
       "21      v        694\n",
       "25      z        434\n",
       "9       j        291\n",
       "23      x        288\n",
       "16      q        112"
      ]
     },
     "execution_count": 14,
     "metadata": {},
     "output_type": "execute_result"
    }
   ],
   "source": [
    "alphabet = ['a','b','c','d','e','f','g','h','i','j','k','l','m','n','o','p','q','r','s','t','u','v','w','x','y','z']\n",
    "freq = [string.count(alphabet[i]) for i in range(len(alphabet))]\n",
    "\n",
    "lf_dict = {'letter': alphabet, 'frequency': freq}\n",
    "lf_df = pd.DataFrame(lf_dict) \n",
    "lf_df = lf_df.sort_values(by=['frequency'], ascending=False)\n",
    "lf_df"
   ]
  },
  {
   "cell_type": "code",
   "execution_count": 15,
   "id": "f2c9464b",
   "metadata": {},
   "outputs": [
    {
     "data": {
      "image/png": "[encoded data removed]",
      "text/plain": [
       "<Figure size 1080x648 with 1 Axes>"
      ]
     },
     "metadata": {
      "needs_background": "light"
     },
     "output_type": "display_data"
    }
   ],
   "source": [
    "plt.figure(figsize=(15, 9))\n",
    "sns.barplot(data=lf_df, x=\"frequency\", y=\"letter\", palette=\"GnBu_d\")\n",
    "plt.show()"
   ]
  },
  {
   "cell_type": "markdown",
   "id": "17e47cad",
   "metadata": {},
   "source": [
    "Aside from the vowels, `s` and `r` are also very frequent in the dataset. The five most frequent letters are `{s, e, a, o, r}`. There are three words in the dataset containing all five of these letters (making them anagrams). They eliminate `95.55%` of possible words, performing slightly better than the vowel strategy. "
   ]
  },
  {
   "cell_type": "code",
   "execution_count": 16,
   "id": "8f6adaae",
   "metadata": {},
   "outputs": [
    {
     "name": "stdout",
     "output_type": "stream",
     "text": [
      "aeros\n",
      "arose\n",
      "soare\n"
     ]
    }
   ],
   "source": [
    "for word in accepted:\n",
    "    if 's' in word and 'e' in word and 'a' in word and 'o' in word and 'r' in word:\n",
    "        print(word)"
   ]
  },
  {
   "cell_type": "code",
   "execution_count": 17,
   "id": "04faed7f",
   "metadata": {},
   "outputs": [
    {
     "data": {
      "text/plain": [
       "('aeros', '95.55%')"
      ]
     },
     "execution_count": 17,
     "metadata": {},
     "output_type": "execute_result"
    }
   ],
   "source": [
    "backtest(starter=\"aeros\", dataset=accepted)"
   ]
  },
  {
   "cell_type": "code",
   "execution_count": 18,
   "id": "bf42c35a",
   "metadata": {},
   "outputs": [
    {
     "data": {
      "text/plain": [
       "('arose', '95.55%')"
      ]
     },
     "execution_count": 18,
     "metadata": {},
     "output_type": "execute_result"
    }
   ],
   "source": [
    "backtest(starter=\"arose\", dataset=accepted)"
   ]
  },
  {
   "cell_type": "code",
   "execution_count": 19,
   "id": "d18004d8",
   "metadata": {},
   "outputs": [
    {
     "data": {
      "text/plain": [
       "('soare', '95.55%')"
      ]
     },
     "execution_count": 19,
     "metadata": {},
     "output_type": "execute_result"
    }
   ],
   "source": [
    "backtest(starter=\"soare\", dataset=accepted)"
   ]
  },
  {
   "cell_type": "markdown",
   "id": "431d440a",
   "metadata": {},
   "source": [
    "#### Brute Force Strategy"
   ]
  },
  {
   "cell_type": "markdown",
   "id": "b0f62d9d",
   "metadata": {},
   "source": [
    "As the `backtest` function was optimized to test all `12,972` words, we can rank the scores of every word in the `accepted` words dataset. `toeas` and `stoae` (anagrams) scored eliminated the most words with `95.72%`, higher than both the vowel and letter strategies. "
   ]
  },
  {
   "cell_type": "code",
   "execution_count": 20,
   "id": "30da7947",
   "metadata": {},
   "outputs": [
    {
     "data": {
      "text/html": [
       "<div>\n",
       "<style scoped>\n",
       "    .dataframe tbody tr th:only-of-type {\n",
       "        vertical-align: middle;\n",
       "    }\n",
       "\n",
       "    .dataframe tbody tr th {\n",
       "        vertical-align: top;\n",
       "    }\n",
       "\n",
       "    .dataframe thead th {\n",
       "        text-align: right;\n",
       "    }\n",
       "</style>\n",
       "<table border=\"1\" class=\"dataframe\">\n",
       "  <thead>\n",
       "    <tr style=\"text-align: right;\">\n",
       "      <th></th>\n",
       "      <th>word</th>\n",
       "      <th>% eliminated</th>\n",
       "    </tr>\n",
       "  </thead>\n",
       "  <tbody>\n",
       "    <tr>\n",
       "      <th>11448</th>\n",
       "      <td>toeas</td>\n",
       "      <td>95.72%</td>\n",
       "    </tr>\n",
       "    <tr>\n",
       "      <th>10741</th>\n",
       "      <td>stoae</td>\n",
       "      <td>95.72%</td>\n",
       "    </tr>\n",
       "    <tr>\n",
       "      <th>317</th>\n",
       "      <td>aloes</td>\n",
       "      <td>95.68%</td>\n",
       "    </tr>\n",
       "    <tr>\n",
       "      <th>138</th>\n",
       "      <td>aeons</td>\n",
       "      <td>95.64%</td>\n",
       "    </tr>\n",
       "    <tr>\n",
       "      <th>549</th>\n",
       "      <td>arose</td>\n",
       "      <td>95.55%</td>\n",
       "    </tr>\n",
       "    <tr>\n",
       "      <th>...</th>\n",
       "      <td>...</td>\n",
       "      <td>...</td>\n",
       "    </tr>\n",
       "    <tr>\n",
       "      <th>4147</th>\n",
       "      <td>fuzzy</td>\n",
       "      <td>39.29%</td>\n",
       "    </tr>\n",
       "    <tr>\n",
       "      <th>5276</th>\n",
       "      <td>hyphy</td>\n",
       "      <td>38.06%</td>\n",
       "    </tr>\n",
       "    <tr>\n",
       "      <th>12683</th>\n",
       "      <td>xylyl</td>\n",
       "      <td>37.66%</td>\n",
       "    </tr>\n",
       "    <tr>\n",
       "      <th>4097</th>\n",
       "      <td>fuffy</td>\n",
       "      <td>37.11%</td>\n",
       "    </tr>\n",
       "    <tr>\n",
       "      <th>4781</th>\n",
       "      <td>gyppy</td>\n",
       "      <td>36.87%</td>\n",
       "    </tr>\n",
       "  </tbody>\n",
       "</table>\n",
       "<p>12972 rows × 2 columns</p>\n",
       "</div>"
      ],
      "text/plain": [
       "        word % eliminated\n",
       "11448  toeas       95.72%\n",
       "10741  stoae       95.72%\n",
       "317    aloes       95.68%\n",
       "138    aeons       95.64%\n",
       "549    arose       95.55%\n",
       "...      ...          ...\n",
       "4147   fuzzy       39.29%\n",
       "5276   hyphy       38.06%\n",
       "12683  xylyl       37.66%\n",
       "4097   fuffy       37.11%\n",
       "4781   gyppy       36.87%\n",
       "\n",
       "[12972 rows x 2 columns]"
      ]
     },
     "execution_count": 20,
     "metadata": {},
     "output_type": "execute_result"
    }
   ],
   "source": [
    "data = []\n",
    "\n",
    "for i in accepted:\n",
    "    hold = backtest(starter=i, dataset=accepted)\n",
    "    data.append(hold)\n",
    "\n",
    "bf = pd.DataFrame(data, columns=['word','% eliminated'])\n",
    "bf = bf.sort_values(by=['% eliminated'], ascending=False)\n",
    "bf"
   ]
  },
  {
   "cell_type": "code",
   "execution_count": 21,
   "id": "c7d77264",
   "metadata": {},
   "outputs": [
    {
     "name": "stdout",
     "output_type": "stream",
     "text": [
      "['toeas', 'stoae', 'aloes', 'aeons', 'arose', 'aeros', 'soare', 'reais', 'arise', 'raise']\n"
     ]
    }
   ],
   "source": [
    "best = bf.word.tolist()\n",
    "print(best[0:10])"
   ]
  },
  {
   "cell_type": "markdown",
   "id": "8ac531fc",
   "metadata": {},
   "source": [
    "## III. Conclusion"
   ]
  },
  {
   "cell_type": "markdown",
   "id": "18026423",
   "metadata": {},
   "source": [
    "While we can conclude that `toeas` and `stoae` eliminate the largest percentage of words from the `accepted` words dataset, thereby making them the most optimal starter words, neither appear in the `answers` dataset. This means `toeas` and `stoae` will never be the solution to a wordle and using either as a starter word prevents you from ever guessing the wordle in one attempt."
   ]
  },
  {
   "cell_type": "code",
   "execution_count": 22,
   "id": "315aa782",
   "metadata": {},
   "outputs": [
    {
     "data": {
      "text/html": [
       "<div>\n",
       "<style scoped>\n",
       "    .dataframe tbody tr th:only-of-type {\n",
       "        vertical-align: middle;\n",
       "    }\n",
       "\n",
       "    .dataframe tbody tr th {\n",
       "        vertical-align: top;\n",
       "    }\n",
       "\n",
       "    .dataframe thead th {\n",
       "        text-align: right;\n",
       "    }\n",
       "</style>\n",
       "<table border=\"1\" class=\"dataframe\">\n",
       "  <thead>\n",
       "    <tr style=\"text-align: right;\">\n",
       "      <th></th>\n",
       "      <th>word</th>\n",
       "      <th>% eliminated</th>\n",
       "    </tr>\n",
       "  </thead>\n",
       "  <tbody>\n",
       "    <tr>\n",
       "      <th>560</th>\n",
       "      <td>arise</td>\n",
       "      <td>92.74%</td>\n",
       "    </tr>\n",
       "    <tr>\n",
       "      <th>1668</th>\n",
       "      <td>raise</td>\n",
       "      <td>92.74%</td>\n",
       "    </tr>\n",
       "    <tr>\n",
       "      <th>112</th>\n",
       "      <td>alone</td>\n",
       "      <td>92.18%</td>\n",
       "    </tr>\n",
       "    <tr>\n",
       "      <th>1252</th>\n",
       "      <td>arose</td>\n",
       "      <td>92.1%</td>\n",
       "    </tr>\n",
       "    <tr>\n",
       "      <th>1589</th>\n",
       "      <td>audio</td>\n",
       "      <td>91.79%</td>\n",
       "    </tr>\n",
       "    <tr>\n",
       "      <th>...</th>\n",
       "      <td>...</td>\n",
       "      <td>...</td>\n",
       "    </tr>\n",
       "    <tr>\n",
       "      <th>96</th>\n",
       "      <td>civic</td>\n",
       "      <td>46.05%</td>\n",
       "    </tr>\n",
       "    <tr>\n",
       "      <th>1209</th>\n",
       "      <td>puppy</td>\n",
       "      <td>44.41%</td>\n",
       "    </tr>\n",
       "    <tr>\n",
       "      <th>514</th>\n",
       "      <td>mummy</td>\n",
       "      <td>42.76%</td>\n",
       "    </tr>\n",
       "    <tr>\n",
       "      <th>253</th>\n",
       "      <td>vivid</td>\n",
       "      <td>42.63%</td>\n",
       "    </tr>\n",
       "    <tr>\n",
       "      <th>1649</th>\n",
       "      <td>fuzzy</td>\n",
       "      <td>41.6%</td>\n",
       "    </tr>\n",
       "  </tbody>\n",
       "</table>\n",
       "<p>2315 rows × 2 columns</p>\n",
       "</div>"
      ],
      "text/plain": [
       "       word % eliminated\n",
       "560   arise       92.74%\n",
       "1668  raise       92.74%\n",
       "112   alone       92.18%\n",
       "1252  arose        92.1%\n",
       "1589  audio       91.79%\n",
       "...     ...          ...\n",
       "96    civic       46.05%\n",
       "1209  puppy       44.41%\n",
       "514   mummy       42.76%\n",
       "253   vivid       42.63%\n",
       "1649  fuzzy        41.6%\n",
       "\n",
       "[2315 rows x 2 columns]"
      ]
     },
     "execution_count": 22,
     "metadata": {},
     "output_type": "execute_result"
    }
   ],
   "source": [
    "# repeating brute force strategy with answers dataset\n",
    "data = []\n",
    "\n",
    "for i in answers:\n",
    "    hold = backtest(starter=i, dataset=answers)\n",
    "    data.append(hold)\n",
    "\n",
    "bf_ans = pd.DataFrame(data, columns=['word','% eliminated'])\n",
    "bf_ans = bf_ans.sort_values(by=['% eliminated'], ascending=False)\n",
    "bf_ans"
   ]
  },
  {
   "cell_type": "markdown",
   "id": "59394500",
   "metadata": {},
   "source": [
    "While `arise` and `raise` both have a lower percentage of words eliminated when compared to `toeas` and `stoae`, they are present in the `answers` dataset and are in rotation to be the solution to a wordle sometime in the future."
   ]
  },
  {
   "cell_type": "code",
   "execution_count": 23,
   "id": "06a4749c",
   "metadata": {},
   "outputs": [
    {
     "name": "stdout",
     "output_type": "stream",
     "text": [
      "['arise', 'raise', 'alone', 'arose', 'audio', 'atone', 'ratio', 'irate', 'aisle', 'alert']\n"
     ]
    }
   ],
   "source": [
    "best_ans = bf_ans.word.tolist()\n",
    "print(best_ans[0:10])"
   ]
  }
 ],
 "metadata": {
  "kernelspec": {
   "display_name": "Python 3 (ipykernel)",
   "language": "python",
   "name": "python3"
  },
  "language_info": {
   "codemirror_mode": {
    "name": "ipython",
    "version": 3
   },
   "file_extension": ".py",
   "mimetype": "text/x-python",
   "name": "python",
   "nbconvert_exporter": "python",
   "pygments_lexer": "ipython3",
   "version": "3.10.5"
  }
 },
 "nbformat": 4,
 "nbformat_minor": 5
}
